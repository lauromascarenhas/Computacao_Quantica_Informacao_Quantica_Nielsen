{
  "nbformat": 4,
  "nbformat_minor": 0,
  "metadata": {
    "colab": {
      "provenance": [],
      "authorship_tag": "ABX9TyOwjcJLP03W1oJtZXh2BBxC",
      "include_colab_link": true
    },
    "kernelspec": {
      "name": "python3",
      "display_name": "Python 3"
    },
    "language_info": {
      "name": "python"
    }
  },
  "cells": [
    {
      "cell_type": "markdown",
      "metadata": {
        "id": "view-in-github",
        "colab_type": "text"
      },
      "source": [
        "<a href=\"https://colab.research.google.com/github/lauromascarenhas/Computacao_Quantica_Informacao_Quantica_Nielsen/blob/main/ACE_HADAMARD_TEST.ipynb\" target=\"_parent\"><img src=\"https://colab.research.google.com/assets/colab-badge.svg\" alt=\"Open In Colab\"/></a>"
      ]
    },
    {
      "cell_type": "markdown",
      "source": [
        "# INSTALAÇÕES E CABEÇALHOS"
      ],
      "metadata": {
        "id": "4PJw79Il60lg"
      }
    },
    {
      "cell_type": "code",
      "execution_count": null,
      "metadata": {
        "id": "mfVl7PHw50D6"
      },
      "outputs": [],
      "source": []
    },
    {
      "cell_type": "markdown",
      "source": [
        "# VARIÁVEIS GLOBAIS"
      ],
      "metadata": {
        "id": "pUbMCT-N66ge"
      }
    },
    {
      "cell_type": "code",
      "source": [],
      "metadata": {
        "id": "KGtfPINN6-HH"
      },
      "execution_count": null,
      "outputs": []
    },
    {
      "cell_type": "markdown",
      "source": [
        "# CORPO PRINCIPAL"
      ],
      "metadata": {
        "id": "Ch5fFz3S6-xe"
      }
    },
    {
      "cell_type": "code",
      "source": [],
      "metadata": {
        "id": "TbFkya5a7CpZ"
      },
      "execution_count": null,
      "outputs": []
    },
    {
      "cell_type": "markdown",
      "source": [
        "# RESULTADOS"
      ],
      "metadata": {
        "id": "9e-XtkCQ7EKo"
      }
    },
    {
      "cell_type": "code",
      "source": [],
      "metadata": {
        "id": "KMGq3ZiB7GV4"
      },
      "execution_count": null,
      "outputs": []
    }
  ]
}